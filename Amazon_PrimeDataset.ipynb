{
  "nbformat": 4,
  "nbformat_minor": 0,
  "metadata": {
    "colab": {
      "name": "Amazon PrimeDataset.ipynb",
      "provenance": [],
      "collapsed_sections": [],
      "authorship_tag": "ABX9TyOCEiXvz6aGbFVcN+e/h7oC",
      "include_colab_link": true
    },
    "kernelspec": {
      "name": "python3",
      "display_name": "Python 3"
    },
    "language_info": {
      "name": "python"
    }
  },
  "cells": [
    {
      "cell_type": "markdown",
      "metadata": {
        "id": "view-in-github",
        "colab_type": "text"
      },
      "source": [
        "<a href=\"https://colab.research.google.com/github/AnushkaMadhavi28/Amazon-Prime-Dataset/blob/main/Amazon_PrimeDataset.ipynb\" target=\"_parent\"><img src=\"https://colab.research.google.com/assets/colab-badge.svg\" alt=\"Open In Colab\"/></a>"
      ]
    },
    {
      "cell_type": "markdown",
      "metadata": {
        "id": "1atZ1ALemRdP"
      },
      "source": [
        "##Import Libraries\n"
      ]
    },
    {
      "cell_type": "code",
      "metadata": {
        "id": "Hv7ibRKh4iOl"
      },
      "source": [
        "import numpy as np \n",
        "import pandas as pd\n",
        "import matplotlib.pyplot as plt\n",
        "import seaborn as sns\n"
      ],
      "execution_count": 1,
      "outputs": []
    },
    {
      "cell_type": "markdown",
      "metadata": {
        "id": "hrdpQaY-md2R"
      },
      "source": [
        "#Exploratory Data Analysis"
      ]
    },
    {
      "cell_type": "code",
      "metadata": {
        "colab": {
          "base_uri": "https://localhost:8080/",
          "height": 206
        },
        "id": "K2UEIWre5RKr",
        "outputId": "5fc75528-93b5-47dd-ad0b-840afbbed7c7"
      },
      "source": [
        "df = pd.read_csv('Prime Dataset.csv')\n",
        "df.head()"
      ],
      "execution_count": 2,
      "outputs": [
        {
          "output_type": "execute_result",
          "data": {
            "text/html": [
              "<div>\n",
              "<style scoped>\n",
              "    .dataframe tbody tr th:only-of-type {\n",
              "        vertical-align: middle;\n",
              "    }\n",
              "\n",
              "    .dataframe tbody tr th {\n",
              "        vertical-align: top;\n",
              "    }\n",
              "\n",
              "    .dataframe thead th {\n",
              "        text-align: right;\n",
              "    }\n",
              "</style>\n",
              "<table border=\"1\" class=\"dataframe\">\n",
              "  <thead>\n",
              "    <tr style=\"text-align: right;\">\n",
              "      <th></th>\n",
              "      <th>S.no.</th>\n",
              "      <th>Name of the show</th>\n",
              "      <th>Year of release</th>\n",
              "      <th>No of seasons available</th>\n",
              "      <th>Language</th>\n",
              "      <th>Genre</th>\n",
              "      <th>IMDb rating</th>\n",
              "      <th>Age of viewers</th>\n",
              "    </tr>\n",
              "  </thead>\n",
              "  <tbody>\n",
              "    <tr>\n",
              "      <th>0</th>\n",
              "      <td>1</td>\n",
              "      <td>Pataal Lok</td>\n",
              "      <td>2020.0</td>\n",
              "      <td>1.0</td>\n",
              "      <td>Hindi</td>\n",
              "      <td>Drama</td>\n",
              "      <td>7.5</td>\n",
              "      <td>18+</td>\n",
              "    </tr>\n",
              "    <tr>\n",
              "      <th>1</th>\n",
              "      <td>2</td>\n",
              "      <td>Upload</td>\n",
              "      <td>2020.0</td>\n",
              "      <td>1.0</td>\n",
              "      <td>English</td>\n",
              "      <td>Sci-fi comedy</td>\n",
              "      <td>8.1</td>\n",
              "      <td>16+</td>\n",
              "    </tr>\n",
              "    <tr>\n",
              "      <th>2</th>\n",
              "      <td>3</td>\n",
              "      <td>The Marvelous Mrs. Maisel</td>\n",
              "      <td>2017.0</td>\n",
              "      <td>3.0</td>\n",
              "      <td>English</td>\n",
              "      <td>Drama, Comedy</td>\n",
              "      <td>8.7</td>\n",
              "      <td>16+</td>\n",
              "    </tr>\n",
              "    <tr>\n",
              "      <th>3</th>\n",
              "      <td>4</td>\n",
              "      <td>Four More Shots Please</td>\n",
              "      <td>2019.0</td>\n",
              "      <td>2.0</td>\n",
              "      <td>Hindi</td>\n",
              "      <td>Drama, Comedy</td>\n",
              "      <td>5.3</td>\n",
              "      <td>18+</td>\n",
              "    </tr>\n",
              "    <tr>\n",
              "      <th>4</th>\n",
              "      <td>5</td>\n",
              "      <td>Fleabag</td>\n",
              "      <td>2016.0</td>\n",
              "      <td>2.0</td>\n",
              "      <td>English</td>\n",
              "      <td>Comedy</td>\n",
              "      <td>8.7</td>\n",
              "      <td>18+</td>\n",
              "    </tr>\n",
              "  </tbody>\n",
              "</table>\n",
              "</div>"
            ],
            "text/plain": [
              "   S.no.           Name of the show  ...  IMDb rating  Age of viewers\n",
              "0      1                 Pataal Lok  ...          7.5             18+\n",
              "1      2                     Upload  ...          8.1             16+\n",
              "2      3  The Marvelous Mrs. Maisel  ...          8.7             16+\n",
              "3      4     Four More Shots Please  ...          5.3             18+\n",
              "4      5                    Fleabag  ...          8.7             18+\n",
              "\n",
              "[5 rows x 8 columns]"
            ]
          },
          "metadata": {
            "tags": []
          },
          "execution_count": 2
        }
      ]
    },
    {
      "cell_type": "code",
      "metadata": {
        "colab": {
          "base_uri": "https://localhost:8080/"
        },
        "id": "c0pfyB_Pmv2w",
        "outputId": "0f84f296-cf83-4410-acae-8d6e1eddb400"
      },
      "source": [
        "df.shape"
      ],
      "execution_count": 3,
      "outputs": [
        {
          "output_type": "execute_result",
          "data": {
            "text/plain": [
              "(404, 8)"
            ]
          },
          "metadata": {
            "tags": []
          },
          "execution_count": 3
        }
      ]
    },
    {
      "cell_type": "markdown",
      "metadata": {
        "id": "iZhEIlvPm39b"
      },
      "source": [
        "#Descriptive Statistics"
      ]
    },
    {
      "cell_type": "code",
      "metadata": {
        "colab": {
          "base_uri": "https://localhost:8080/",
          "height": 300
        },
        "id": "rocCqO-VJqY6",
        "outputId": "e3525e55-5dae-441c-ff00-1474cca38117"
      },
      "source": [
        "df.describe()"
      ],
      "execution_count": 4,
      "outputs": [
        {
          "output_type": "execute_result",
          "data": {
            "text/html": [
              "<div>\n",
              "<style scoped>\n",
              "    .dataframe tbody tr th:only-of-type {\n",
              "        vertical-align: middle;\n",
              "    }\n",
              "\n",
              "    .dataframe tbody tr th {\n",
              "        vertical-align: top;\n",
              "    }\n",
              "\n",
              "    .dataframe thead th {\n",
              "        text-align: right;\n",
              "    }\n",
              "</style>\n",
              "<table border=\"1\" class=\"dataframe\">\n",
              "  <thead>\n",
              "    <tr style=\"text-align: right;\">\n",
              "      <th></th>\n",
              "      <th>S.no.</th>\n",
              "      <th>Year of release</th>\n",
              "      <th>No of seasons available</th>\n",
              "      <th>IMDb rating</th>\n",
              "    </tr>\n",
              "  </thead>\n",
              "  <tbody>\n",
              "    <tr>\n",
              "      <th>count</th>\n",
              "      <td>404.000000</td>\n",
              "      <td>393.000000</td>\n",
              "      <td>393.000000</td>\n",
              "      <td>182.000000</td>\n",
              "    </tr>\n",
              "    <tr>\n",
              "      <th>mean</th>\n",
              "      <td>202.500000</td>\n",
              "      <td>2011.279898</td>\n",
              "      <td>2.608142</td>\n",
              "      <td>7.354396</td>\n",
              "    </tr>\n",
              "    <tr>\n",
              "      <th>std</th>\n",
              "      <td>116.769003</td>\n",
              "      <td>12.944861</td>\n",
              "      <td>2.592008</td>\n",
              "      <td>0.959372</td>\n",
              "    </tr>\n",
              "    <tr>\n",
              "      <th>min</th>\n",
              "      <td>1.000000</td>\n",
              "      <td>1926.000000</td>\n",
              "      <td>1.000000</td>\n",
              "      <td>3.700000</td>\n",
              "    </tr>\n",
              "    <tr>\n",
              "      <th>25%</th>\n",
              "      <td>101.750000</td>\n",
              "      <td>2011.000000</td>\n",
              "      <td>1.000000</td>\n",
              "      <td>6.900000</td>\n",
              "    </tr>\n",
              "    <tr>\n",
              "      <th>50%</th>\n",
              "      <td>202.500000</td>\n",
              "      <td>2016.000000</td>\n",
              "      <td>2.000000</td>\n",
              "      <td>7.500000</td>\n",
              "    </tr>\n",
              "    <tr>\n",
              "      <th>75%</th>\n",
              "      <td>303.250000</td>\n",
              "      <td>2018.000000</td>\n",
              "      <td>3.000000</td>\n",
              "      <td>8.100000</td>\n",
              "    </tr>\n",
              "    <tr>\n",
              "      <th>max</th>\n",
              "      <td>404.000000</td>\n",
              "      <td>2020.000000</td>\n",
              "      <td>20.000000</td>\n",
              "      <td>9.000000</td>\n",
              "    </tr>\n",
              "  </tbody>\n",
              "</table>\n",
              "</div>"
            ],
            "text/plain": [
              "            S.no.  Year of release  No of seasons available  IMDb rating\n",
              "count  404.000000       393.000000               393.000000   182.000000\n",
              "mean   202.500000      2011.279898                 2.608142     7.354396\n",
              "std    116.769003        12.944861                 2.592008     0.959372\n",
              "min      1.000000      1926.000000                 1.000000     3.700000\n",
              "25%    101.750000      2011.000000                 1.000000     6.900000\n",
              "50%    202.500000      2016.000000                 2.000000     7.500000\n",
              "75%    303.250000      2018.000000                 3.000000     8.100000\n",
              "max    404.000000      2020.000000                20.000000     9.000000"
            ]
          },
          "metadata": {
            "tags": []
          },
          "execution_count": 4
        }
      ]
    },
    {
      "cell_type": "code",
      "metadata": {
        "colab": {
          "base_uri": "https://localhost:8080/"
        },
        "id": "KJPYSDz0NkJX",
        "outputId": "ed9e3f63-32f8-44a7-cfd1-e35ec6ee0e82"
      },
      "source": [
        "df.info()"
      ],
      "execution_count": 5,
      "outputs": [
        {
          "output_type": "stream",
          "text": [
            "<class 'pandas.core.frame.DataFrame'>\n",
            "RangeIndex: 404 entries, 0 to 403\n",
            "Data columns (total 8 columns):\n",
            " #   Column                   Non-Null Count  Dtype  \n",
            "---  ------                   --------------  -----  \n",
            " 0   S.no.                    404 non-null    int64  \n",
            " 1   Name of the show         393 non-null    object \n",
            " 2   Year of release          393 non-null    float64\n",
            " 3   No of seasons available  393 non-null    float64\n",
            " 4   Language                 393 non-null    object \n",
            " 5   Genre                    393 non-null    object \n",
            " 6   IMDb rating              182 non-null    float64\n",
            " 7   Age of viewers           393 non-null    object \n",
            "dtypes: float64(3), int64(1), object(4)\n",
            "memory usage: 25.4+ KB\n"
          ],
          "name": "stdout"
        }
      ]
    },
    {
      "cell_type": "code",
      "metadata": {
        "id": "W7tr11HKp6Pr"
      },
      "source": [
        "x= df.iloc[:,1:]\n",
        "y= df.iloc[:,-1]"
      ],
      "execution_count": 6,
      "outputs": []
    },
    {
      "cell_type": "code",
      "metadata": {
        "colab": {
          "base_uri": "https://localhost:8080/",
          "height": 423
        },
        "id": "m5Xw7GPgp_FL",
        "outputId": "4f275f6f-18fa-4a56-e5fc-37cdb563c04d"
      },
      "source": [
        "x"
      ],
      "execution_count": 7,
      "outputs": [
        {
          "output_type": "execute_result",
          "data": {
            "text/html": [
              "<div>\n",
              "<style scoped>\n",
              "    .dataframe tbody tr th:only-of-type {\n",
              "        vertical-align: middle;\n",
              "    }\n",
              "\n",
              "    .dataframe tbody tr th {\n",
              "        vertical-align: top;\n",
              "    }\n",
              "\n",
              "    .dataframe thead th {\n",
              "        text-align: right;\n",
              "    }\n",
              "</style>\n",
              "<table border=\"1\" class=\"dataframe\">\n",
              "  <thead>\n",
              "    <tr style=\"text-align: right;\">\n",
              "      <th></th>\n",
              "      <th>Name of the show</th>\n",
              "      <th>Year of release</th>\n",
              "      <th>No of seasons available</th>\n",
              "      <th>Language</th>\n",
              "      <th>Genre</th>\n",
              "      <th>IMDb rating</th>\n",
              "      <th>Age of viewers</th>\n",
              "    </tr>\n",
              "  </thead>\n",
              "  <tbody>\n",
              "    <tr>\n",
              "      <th>0</th>\n",
              "      <td>Pataal Lok</td>\n",
              "      <td>2020.0</td>\n",
              "      <td>1.0</td>\n",
              "      <td>Hindi</td>\n",
              "      <td>Drama</td>\n",
              "      <td>7.5</td>\n",
              "      <td>18+</td>\n",
              "    </tr>\n",
              "    <tr>\n",
              "      <th>1</th>\n",
              "      <td>Upload</td>\n",
              "      <td>2020.0</td>\n",
              "      <td>1.0</td>\n",
              "      <td>English</td>\n",
              "      <td>Sci-fi comedy</td>\n",
              "      <td>8.1</td>\n",
              "      <td>16+</td>\n",
              "    </tr>\n",
              "    <tr>\n",
              "      <th>2</th>\n",
              "      <td>The Marvelous Mrs. Maisel</td>\n",
              "      <td>2017.0</td>\n",
              "      <td>3.0</td>\n",
              "      <td>English</td>\n",
              "      <td>Drama, Comedy</td>\n",
              "      <td>8.7</td>\n",
              "      <td>16+</td>\n",
              "    </tr>\n",
              "    <tr>\n",
              "      <th>3</th>\n",
              "      <td>Four More Shots Please</td>\n",
              "      <td>2019.0</td>\n",
              "      <td>2.0</td>\n",
              "      <td>Hindi</td>\n",
              "      <td>Drama, Comedy</td>\n",
              "      <td>5.3</td>\n",
              "      <td>18+</td>\n",
              "    </tr>\n",
              "    <tr>\n",
              "      <th>4</th>\n",
              "      <td>Fleabag</td>\n",
              "      <td>2016.0</td>\n",
              "      <td>2.0</td>\n",
              "      <td>English</td>\n",
              "      <td>Comedy</td>\n",
              "      <td>8.7</td>\n",
              "      <td>18+</td>\n",
              "    </tr>\n",
              "    <tr>\n",
              "      <th>...</th>\n",
              "      <td>...</td>\n",
              "      <td>...</td>\n",
              "      <td>...</td>\n",
              "      <td>...</td>\n",
              "      <td>...</td>\n",
              "      <td>...</td>\n",
              "      <td>...</td>\n",
              "    </tr>\n",
              "    <tr>\n",
              "      <th>399</th>\n",
              "      <td>NaN</td>\n",
              "      <td>NaN</td>\n",
              "      <td>NaN</td>\n",
              "      <td>NaN</td>\n",
              "      <td>NaN</td>\n",
              "      <td>NaN</td>\n",
              "      <td>NaN</td>\n",
              "    </tr>\n",
              "    <tr>\n",
              "      <th>400</th>\n",
              "      <td>NaN</td>\n",
              "      <td>NaN</td>\n",
              "      <td>NaN</td>\n",
              "      <td>NaN</td>\n",
              "      <td>NaN</td>\n",
              "      <td>NaN</td>\n",
              "      <td>NaN</td>\n",
              "    </tr>\n",
              "    <tr>\n",
              "      <th>401</th>\n",
              "      <td>NaN</td>\n",
              "      <td>NaN</td>\n",
              "      <td>NaN</td>\n",
              "      <td>NaN</td>\n",
              "      <td>NaN</td>\n",
              "      <td>NaN</td>\n",
              "      <td>NaN</td>\n",
              "    </tr>\n",
              "    <tr>\n",
              "      <th>402</th>\n",
              "      <td>NaN</td>\n",
              "      <td>NaN</td>\n",
              "      <td>NaN</td>\n",
              "      <td>NaN</td>\n",
              "      <td>NaN</td>\n",
              "      <td>NaN</td>\n",
              "      <td>NaN</td>\n",
              "    </tr>\n",
              "    <tr>\n",
              "      <th>403</th>\n",
              "      <td>NaN</td>\n",
              "      <td>NaN</td>\n",
              "      <td>NaN</td>\n",
              "      <td>NaN</td>\n",
              "      <td>NaN</td>\n",
              "      <td>NaN</td>\n",
              "      <td>NaN</td>\n",
              "    </tr>\n",
              "  </tbody>\n",
              "</table>\n",
              "<p>404 rows × 7 columns</p>\n",
              "</div>"
            ],
            "text/plain": [
              "              Name of the show  Year of release  ...  IMDb rating Age of viewers\n",
              "0                   Pataal Lok           2020.0  ...          7.5            18+\n",
              "1                       Upload           2020.0  ...          8.1            16+\n",
              "2    The Marvelous Mrs. Maisel           2017.0  ...          8.7            16+\n",
              "3       Four More Shots Please           2019.0  ...          5.3            18+\n",
              "4                      Fleabag           2016.0  ...          8.7            18+\n",
              "..                         ...              ...  ...          ...            ...\n",
              "399                        NaN              NaN  ...          NaN            NaN\n",
              "400                        NaN              NaN  ...          NaN            NaN\n",
              "401                        NaN              NaN  ...          NaN            NaN\n",
              "402                        NaN              NaN  ...          NaN            NaN\n",
              "403                        NaN              NaN  ...          NaN            NaN\n",
              "\n",
              "[404 rows x 7 columns]"
            ]
          },
          "metadata": {
            "tags": []
          },
          "execution_count": 7
        }
      ]
    },
    {
      "cell_type": "code",
      "metadata": {
        "colab": {
          "base_uri": "https://localhost:8080/"
        },
        "id": "qMzDk5LUqCG7",
        "outputId": "e8dcc2bc-b6a6-4911-8c25-66ed70f9b978"
      },
      "source": [
        "y"
      ],
      "execution_count": 8,
      "outputs": [
        {
          "output_type": "execute_result",
          "data": {
            "text/plain": [
              "0      18+\n",
              "1      16+\n",
              "2      16+\n",
              "3      18+\n",
              "4      18+\n",
              "      ... \n",
              "399    NaN\n",
              "400    NaN\n",
              "401    NaN\n",
              "402    NaN\n",
              "403    NaN\n",
              "Name: Age of viewers, Length: 404, dtype: object"
            ]
          },
          "metadata": {
            "tags": []
          },
          "execution_count": 8
        }
      ]
    },
    {
      "cell_type": "markdown",
      "metadata": {
        "id": "b-CSLsrVnEGi"
      },
      "source": [
        "#Data Cleaning"
      ]
    },
    {
      "cell_type": "code",
      "metadata": {
        "colab": {
          "base_uri": "https://localhost:8080/"
        },
        "id": "37veoUFINpJv",
        "outputId": "90f4bdb5-9f36-4b4d-cab1-4c46a12c964a"
      },
      "source": [
        "df.isnull().sum()"
      ],
      "execution_count": 9,
      "outputs": [
        {
          "output_type": "execute_result",
          "data": {
            "text/plain": [
              "S.no.                        0\n",
              "Name of the show            11\n",
              "Year of release             11\n",
              "No of seasons available     11\n",
              "Language                    11\n",
              "Genre                       11\n",
              "IMDb rating                222\n",
              "Age of viewers              11\n",
              "dtype: int64"
            ]
          },
          "metadata": {
            "tags": []
          },
          "execution_count": 9
        }
      ]
    },
    {
      "cell_type": "code",
      "metadata": {
        "colab": {
          "base_uri": "https://localhost:8080/"
        },
        "id": "1v5IUt8HnMNz",
        "outputId": "6a6a7746-9822-40dd-8257-48e282460a46"
      },
      "source": [
        "df.duplicated().sum()"
      ],
      "execution_count": 10,
      "outputs": [
        {
          "output_type": "execute_result",
          "data": {
            "text/plain": [
              "0"
            ]
          },
          "metadata": {
            "tags": []
          },
          "execution_count": 10
        }
      ]
    },
    {
      "cell_type": "code",
      "metadata": {
        "id": "gzY3qecoN6is",
        "colab": {
          "base_uri": "https://localhost:8080/"
        },
        "outputId": "5b73a09e-e4c4-437d-8fcb-af0f1ffc25f5"
      },
      "source": [
        "df['Name of the show'].unique()"
      ],
      "execution_count": 11,
      "outputs": [
        {
          "output_type": "execute_result",
          "data": {
            "text/plain": [
              "array(['Pataal Lok', 'Upload', 'The Marvelous Mrs. Maisel',\n",
              "       'Four More Shots Please', 'Fleabag', 'Made in Heaven',\n",
              "       'Homecoming', 'Mirzapur', 'The Family Man', 'Modern Love',\n",
              "       'Comicstaan', 'Inside Edge', 'The Boys', 'Hanna', 'Hunters',\n",
              "       'Good Omens', 'Breathe', 'The Forgotten Army- Azaadi ke Liye',\n",
              "       \"Tom Clancy's Jack Ryan\", 'Tales from the Loop',\n",
              "       \"The Test: A New Era for Australia's Team\",\n",
              "       'The Man in the High Castle', 'One Mic Stand', 'Undone',\n",
              "       'American Gods', 'The Tick', 'Jestination Unknown',\n",
              "       'Man with a Plan', 'Suits', 'Doctor Who', \"Grey's Anatomy\",\n",
              "       'The Mentalist', 'Afsos', 'Laakhon Mein Ek', 'House',\n",
              "       'The Good Doctor', 'The Vampire Diaries', 'Hostel Daze',\n",
              "       'Mr. Robot', 'Supernatural', 'Dexter', 'The Magicians',\n",
              "       'Blindspot', 'The Good Wife', 'The Girlfriend Experience',\n",
              "       'Chacha Vidhayak Hain Humare', 'Scorpion', 'Shameless', 'Reign',\n",
              "       'Downtown Abbey', 'McMafia', 'This is Us',\n",
              "       'Malgudi Days Swami & Friends 1', 'Nikita', 'Carnival Row',\n",
              "       'Legacies', 'Bates Motel', 'The Exorcist', 'The Night Manager',\n",
              "       'The Originals', 'The Purge', 'Deception', 'The Last Ship',\n",
              "       'Treadstone', 'The Terror', 'Manifest', 'Pushpavalli', 'Fringe',\n",
              "       'Person of Interest', 'The Affair',\n",
              "       'The American Playboy: The Hugh Hefner Story', 'The Widow',\n",
              "       'God Friended Me', 'Star Trek: Picard', 'Fear the Walking Dead',\n",
              "       'Taken', 'Bosch', 'Elementary', 'Beauty and the Beast', 'NCIS',\n",
              "       'Masters of Sex', 'Into the Badlands', 'Vella Raja',\n",
              "       'Bang Baaja Baaraat', 'Covert Affairs', \"The Handmaid's Tale\",\n",
              "       'Gangstars', 'Madam Secretary', \"Marvel's Runaways\",\n",
              "       'One Tree Hill', 'Absentia', 'Grimm', 'Heroes', 'Startup',\n",
              "       'Extant', 'Goliath', 'Station 19', 'Diablo Guardian',\n",
              "       'Lethal Weapon', 'Chernobyl: Aftermath', 'Blue Bloods', 'Patriot',\n",
              "       'Rizzoli and Isles', 'Luther', 'Dispatches from Elsewhere',\n",
              "       'Mad Men', 'The Looming Tower', 'Siyaasat', 'Mafia Undercover',\n",
              "       'The Baker and The Beauty', 'Roswell, New Mexico',\n",
              "       'Pretty Little Liars: The Perfectionists', 'Major Crimes',\n",
              "       'Happy Marriage!?', 'The Crossing', 'Famous in Love', 'Rush',\n",
              "       'Whiskey Cavalier', 'Hawaii Five-O', 'Penny Dreadful',\n",
              "       'You are Wanted', 'H.G. Wells: The Invisible Man', 'Parenthood',\n",
              "       \"Marvel's Cloak & Dagger\", 'Preacher',\n",
              "       'The Trial: A Murder in the Family', 'Claws', 'The Good Fight',\n",
              "       'Sneaky Pete', 'Shaktimaan', 'American Woman', 'Hap and Leonard',\n",
              "       'Chicago Med', 'Murder in the First', 'House of Lies',\n",
              "       'The Missing', 'Dance Academy', 'A very English Scandal',\n",
              "       'Mozart in the Jungle', '21 Jump Street', 'The Romanoffs',\n",
              "       'El Presidente', 'Ray Donovan', 'The Neighbors', 'Training Day',\n",
              "       'Flesh and Bone', 'Injustice', 'Tokyo Girl',\n",
              "       'Z: The Beginning of Everything', 'Guilt', 'Good Girls Revolt',\n",
              "       'Hand of God', 'The Rook', 'Time After Time', 'Life', 'Hunter',\n",
              "       'Fukuyadou Honpo-Kyoto Love Story', 'Collision', 'Presumed Guilty',\n",
              "       'Deutschland', 'Lore', 'Tokyo Alice', \"Warrior's Way\",\n",
              "       'Silk Stalkings', 'Transparent', 'The Last Tycoon',\n",
              "       'Too Old to Die Young', '4 Blocks', 'Haunted', 'Lodge 49',\n",
              "       'The First', 'Black sun', 'Life Sentence',\n",
              "       'Shackleton: Trapped in the South Pole', 'Final Life',\n",
              "       'Falling Water', 'Midnight, Texas', 'The Idolm@aster.kr',\n",
              "       'Inside Borussia Dortmund', 'All American', 'Almirante Hotel',\n",
              "       'The Collection', 'Beat', 'Coloner March of Scotland Yard',\n",
              "       'New Worlds', 'Missing Evidence', 'Deadly Game', 'Feed the Beast',\n",
              "       'The Commish', 'Water Rats',\n",
              "       'The Incredible Journey of Mary Bryant', 'Dietland',\n",
              "       'One Mississippi', 'Roadies', 'Lifeline',\n",
              "       'The Secrets of Borgo Lairci', \"MAGI The Tensho Boys' Embassy\",\n",
              "       'Stingray', \"Tucker's Witch\", 'Extrano Enemigo',\n",
              "       'The Cecil B. DeMille Classics Collection', 'The Path',\n",
              "       'Girlfriends Guide to Divorce', 'Lorena', 'When We Go to War',\n",
              "       'Peter Gunn', 'Queen Sugar', 'Alone Together', 'Booker',\n",
              "       'Casanova: PBS Masterpiece Theatre- The Complete Series',\n",
              "       'Mr. Lucky', 'The Lives of the Saints', 'Neon Rider',\n",
              "       'The Ray Bradbury Theatre', 'Silver and Gold', 'An Unknown Enemy',\n",
              "       'Black Harbour', 'Family Pictures',\n",
              "       'To the Ends of the Earth (BBC Series)', 'The Red Line',\n",
              "       'Your brush with Nature', 'Constantine', 'Super Wings', 'Lockout',\n",
              "       'Lost in Oz', 'Journey with Dylan Dreyer', 'Vir the Robot Boy',\n",
              "       'Forensic Files', 'Highway on my Plate', 'The Lost World',\n",
              "       'T-Buster', 'Tobot', 'Tropical Heat', 'Amazon Riders',\n",
              "       \"Hitler's Eastern Front\", 'Full Disclosure', 'Conviction',\n",
              "       'Junior G', 'U.S Bounty Hunters', 'Legacy',\n",
              "       'The Adventures of Robin Hood', 'Skulls and Roses',\n",
              "       'Caribbean Thunder', 'The New Adventures of Flash Gordon',\n",
              "       'Renegade', 'Strike Force', 'The Harbor: Aberdeen', 'Teen Wolf',\n",
              "       'The Buccaneers', 'Cocomong', 'Vancy Derringer', 'Shark Man',\n",
              "       'Bhoot and Friends', 'The Greatest American Hero',\n",
              "       'Space Precinct: Complete Series', 'Which Way To', 'Young Sheldon',\n",
              "       'The Big Bang Theory', 'The Office', 'Mr. Bean',\n",
              "       'Mind the Malhotras', 'Mr. Bean: The Animated Series',\n",
              "       '2 Broke Girls', 'The Stinky & Dirty Show', 'Joey',\n",
              "       'Two and a Half Men', 'Selfie with Bajrangi',\n",
              "       'Russell Peters: Deported', 'Classic Popeye', 'Inspector Chingum',\n",
              "       'Eeena Meena Deeka', 'Psych', 'Mom', 'Yeh Jo hain Zindagi',\n",
              "       'Oggy and the Cockroaches', 'The Kicks', 'The PowerPuff Girls',\n",
              "       'The Middle', 'Zabaan Sambhalke', 'Seinfeld',\n",
              "       'Parks and Recreation', 'Chaplin & Co', 'Shaitaan Haveli',\n",
              "       'The Fresh Prince of Bel-Air', 'Jimmy O. Yang: Good Deal',\n",
              "       'Cat vs Keet', 'Citizen Khan', 'Chuck', 'The Mindy Project',\n",
              "       'Curious George', 'Johnny Bravo', 'Californication',\n",
              "       'Sigmund and the Sea Monsters', 'Casual', 'Munki and Trunk',\n",
              "       'Anger Management', 'Jean Claude Van Johnson', 'Best of AIB',\n",
              "       'Forever', 'Dennis the Menace', 'Yes Minister: Specials',\n",
              "       'I love Dick', 'Raja aur Rancho',\n",
              "       'Dilruk Jayasinha: Bundle of Joy', 'Yes, Prime Minister',\n",
              "       'Going Viral Pvt. Ltd.', 'PAC-MAN and the Ghostly Adventures',\n",
              "       'El Juego de las Llaves', 'Desperate Widows', 'Coupling',\n",
              "       'Trial and Error', \"Man's World\",\n",
              "       \"Anne Edmonds: What's Wrong with You?\", 'Red Oaks',\n",
              "       'Censhorship in the Future',\n",
              "       'Alice Wettlund: My Mama is a Human and So Am I', 'Die Trying',\n",
              "       'That Girl', 'Little Big Awesome', 'Celia Pacquola: All Talk',\n",
              "       'Tommy Little: Self-Diagnosed Genius', 'Bananas in Pyjamas',\n",
              "       \"The New Archie's\", 'The Simple Life', 'The Detour',\n",
              "       'Splitting Up Together', 'Paul Chowdhry: Live Innit',\n",
              "       'Danger and Eggs', 'EIC vs The World', 'SNG: What if',\n",
              "       'Living Biblically', 'Kanan Gill: How Insensitive',\n",
              "       'Jim Gaffigan: Quality Time', 'Angie Tribeca', 'Inside Jokes',\n",
              "       'Alice Fraser: Savage', 'Judith Lucy: Judith Lucy vs Men',\n",
              "       'Zoe Coombs Marr: Bossy Bottom', 'The Grand Tour',\n",
              "       'The Adventures of Rocky and Bullwinkle',\n",
              "       'The Adventures of Paddington Bear', 'Chacha Bhatija', 'Lexx',\n",
              "       'Atchoo', 'Tom Gleeson: Joy', 'People of Earth', 'Son of Abish',\n",
              "       'Tom Walker: Very Very', 'Jayde Adams: Serious Black Jumper',\n",
              "       'Crisis in Six Scenes', 'Alonzo Bodden: Heavy Lightweight',\n",
              "       'Chris Ramsey: Approval Needed', 'LOL: Australia',\n",
              "       '#IMomSoHard Live', 'Caligula', 'Lano & Woodley: Fly',\n",
              "       'The Late Show with James Corden', 'Spaced', 'Random Gappa',\n",
              "       'Rob Delaney: Jackie', 'Mike E. Winfield: StepMan',\n",
              "       'Ed Gamble: Blood Sugar', 'Mini Ninjas', 'Loudermilk',\n",
              "       'Flo and Joan: Alive on Stage',\n",
              "       'Ilana Glazer: The Planet is Burning', 'Scream Street',\n",
              "       'Me, Myself and I', 'Kung Fu Bunny',\n",
              "       'The Kacey Musgraves Christmas Show',\n",
              "       \"Simon's Cat- Classic Collection\", 'The Danny Thomas Show',\n",
              "       'Hitoshi Matsumoto Presents Documental', 'Businessmen VS Aliens',\n",
              "       'Murphy Brown', 'The Best of Groucho', 'WassUp With You',\n",
              "       'Scooter: Secret Agent', 'LOL: Last one Laughing', 'Faireez',\n",
              "       'A New Kind Of Magic', 'The Real McCoys', 'Uchimura Summers',\n",
              "       'Paprika', 'Gattu- The Power Champ', 'Still Standing',\n",
              "       'Chris Tall Presents…', 'Short Poppies',\n",
              "       'The 2018 Rose Parade Hosted by Cord & Tish',\n",
              "       'Aliens Love Underpants And…', 'Gina Brillon: The Floor is Lava',\n",
              "       nan], dtype=object)"
            ]
          },
          "metadata": {
            "tags": []
          },
          "execution_count": 11
        }
      ]
    },
    {
      "cell_type": "code",
      "metadata": {
        "id": "u8lcKD5q3aXJ"
      },
      "source": [
        "df['Name of the show'].fillna(df['Name of the show'].value_counts().index[0],inplace=True)\n"
      ],
      "execution_count": 12,
      "outputs": []
    },
    {
      "cell_type": "code",
      "metadata": {
        "colab": {
          "base_uri": "https://localhost:8080/"
        },
        "id": "AxRyKvzt3xTP",
        "outputId": "13b9a2af-abe2-4754-84ba-c355965d21a4"
      },
      "source": [
        "df.isnull().sum()"
      ],
      "execution_count": 13,
      "outputs": [
        {
          "output_type": "execute_result",
          "data": {
            "text/plain": [
              "S.no.                        0\n",
              "Name of the show             0\n",
              "Year of release             11\n",
              "No of seasons available     11\n",
              "Language                    11\n",
              "Genre                       11\n",
              "IMDb rating                222\n",
              "Age of viewers              11\n",
              "dtype: int64"
            ]
          },
          "metadata": {
            "tags": []
          },
          "execution_count": 13
        }
      ]
    },
    {
      "cell_type": "code",
      "metadata": {
        "colab": {
          "base_uri": "https://localhost:8080/"
        },
        "id": "JdMsAvTC32qD",
        "outputId": "01eefc8f-2f85-402d-9df7-55f33d133e69"
      },
      "source": [
        "df['Year of release'].unique()"
      ],
      "execution_count": 14,
      "outputs": [
        {
          "output_type": "execute_result",
          "data": {
            "text/plain": [
              "array([2020., 2017., 2019., 2016., 2018., 2015., 2011., 2005., 2009.,\n",
              "       2010., 2006., 2014., 1987., 2013., 2012., 2004., 2007., 2008.,\n",
              "       1998., 1985., 1992., 2002., 1956., 1996., 1986., 1983., 1926.,\n",
              "       1959., 1990., 1960., 1997., 1993., 2000., 1991., 2001., 1979.,\n",
              "       1957., 1981., 1995., 2003., 1984., 1999., 1980., 1967., 1988.,\n",
              "       1958.,   nan])"
            ]
          },
          "metadata": {
            "tags": []
          },
          "execution_count": 14
        }
      ]
    },
    {
      "cell_type": "code",
      "metadata": {
        "id": "yKN_t2Np4Ku_"
      },
      "source": [
        "df['Year of release'].fillna(df['Year of release'].value_counts().index[0],inplace=True)"
      ],
      "execution_count": 15,
      "outputs": []
    },
    {
      "cell_type": "code",
      "metadata": {
        "colab": {
          "base_uri": "https://localhost:8080/"
        },
        "id": "iUdX3r-s5Crn",
        "outputId": "d112c2d4-fa7f-49fa-c6e8-1b072af4ef8b"
      },
      "source": [
        "df.isnull().sum()"
      ],
      "execution_count": 16,
      "outputs": [
        {
          "output_type": "execute_result",
          "data": {
            "text/plain": [
              "S.no.                        0\n",
              "Name of the show             0\n",
              "Year of release              0\n",
              "No of seasons available     11\n",
              "Language                    11\n",
              "Genre                       11\n",
              "IMDb rating                222\n",
              "Age of viewers              11\n",
              "dtype: int64"
            ]
          },
          "metadata": {
            "tags": []
          },
          "execution_count": 16
        }
      ]
    },
    {
      "cell_type": "code",
      "metadata": {
        "colab": {
          "base_uri": "https://localhost:8080/"
        },
        "id": "eE4CsYBC5l2Y",
        "outputId": "41cc41fa-9c33-4329-cc4d-31f5aa433315"
      },
      "source": [
        "df['No of seasons available'].unique()"
      ],
      "execution_count": 17,
      "outputs": [
        {
          "output_type": "execute_result",
          "data": {
            "text/plain": [
              "array([ 1.,  3.,  2.,  4.,  8., 13., 15.,  7.,  5., 10.,  6., 17.,  9.,\n",
              "       20., 12., nan])"
            ]
          },
          "metadata": {
            "tags": []
          },
          "execution_count": 17
        }
      ]
    },
    {
      "cell_type": "code",
      "metadata": {
        "id": "BmG6sseF8fa-"
      },
      "source": [
        "df['No of seasons available'].fillna(df['No of seasons available'].value_counts().index[0],inplace=True)"
      ],
      "execution_count": 18,
      "outputs": []
    },
    {
      "cell_type": "code",
      "metadata": {
        "id": "qB9kbJjt_QNv",
        "colab": {
          "base_uri": "https://localhost:8080/"
        },
        "outputId": "53254741-3266-43b1-9078-8aaef6af6916"
      },
      "source": [
        "df.isnull().sum()"
      ],
      "execution_count": 19,
      "outputs": [
        {
          "output_type": "execute_result",
          "data": {
            "text/plain": [
              "S.no.                        0\n",
              "Name of the show             0\n",
              "Year of release              0\n",
              "No of seasons available      0\n",
              "Language                    11\n",
              "Genre                       11\n",
              "IMDb rating                222\n",
              "Age of viewers              11\n",
              "dtype: int64"
            ]
          },
          "metadata": {
            "tags": []
          },
          "execution_count": 19
        }
      ]
    },
    {
      "cell_type": "code",
      "metadata": {
        "colab": {
          "base_uri": "https://localhost:8080/"
        },
        "id": "lnT_atVf7s4q",
        "outputId": "840723c1-5517-4551-af3f-ed310b129d9b"
      },
      "source": [
        "df['Language'].unique()"
      ],
      "execution_count": 20,
      "outputs": [
        {
          "output_type": "execute_result",
          "data": {
            "text/plain": [
              "array(['Hindi', 'English', 'Telugu', 'Italiano', 'Hebrew', 'Japanese',\n",
              "       'Spanish', 'Nederlands', 'Deutsch', 'French', 'Serbian', 'Russian',\n",
              "       'Suomi', 'Marathi', nan], dtype=object)"
            ]
          },
          "metadata": {
            "tags": []
          },
          "execution_count": 20
        }
      ]
    },
    {
      "cell_type": "code",
      "metadata": {
        "id": "dpHU69uH_xxS"
      },
      "source": [
        "df['Language'].fillna(df['Language'].value_counts().index[0],inplace=True)"
      ],
      "execution_count": 21,
      "outputs": []
    },
    {
      "cell_type": "code",
      "metadata": {
        "colab": {
          "base_uri": "https://localhost:8080/"
        },
        "id": "dDfm610HE8hO",
        "outputId": "c41f6901-0a18-418f-8369-58d8b2665435"
      },
      "source": [
        "df.isnull().sum()"
      ],
      "execution_count": 22,
      "outputs": [
        {
          "output_type": "execute_result",
          "data": {
            "text/plain": [
              "S.no.                        0\n",
              "Name of the show             0\n",
              "Year of release              0\n",
              "No of seasons available      0\n",
              "Language                     0\n",
              "Genre                       11\n",
              "IMDb rating                222\n",
              "Age of viewers              11\n",
              "dtype: int64"
            ]
          },
          "metadata": {
            "tags": []
          },
          "execution_count": 22
        }
      ]
    },
    {
      "cell_type": "code",
      "metadata": {
        "colab": {
          "base_uri": "https://localhost:8080/"
        },
        "id": "MBpUJsJhFCy8",
        "outputId": "755f526f-e785-45e7-a2b7-36cc1d43b970"
      },
      "source": [
        "df['Genre'].unique()"
      ],
      "execution_count": 23,
      "outputs": [
        {
          "output_type": "execute_result",
          "data": {
            "text/plain": [
              "array(['Drama', 'Sci-fi comedy', 'Drama, Comedy', 'Comedy',\n",
              "       'Drama, Action', 'Drama, Romance, Comedy',\n",
              "       'Arts, Entertainment, Culture', 'Sports, Drama', 'Action, Comedy',\n",
              "       'Drama, Action, Suspense', 'Fantasy, Comedy', 'Drama, Suspense',\n",
              "       'Sci-fi', 'Documentary', 'Animation, Drama',\n",
              "       'Sci-fi, Drama, Suspense', 'Comedy, Action',\n",
              "       'Comedy, Arts, Entertainment, Culture',\n",
              "       'Drama, Horror, Romance, Suspense', 'Drama, Suspense, Horror',\n",
              "       'Drama, Suspense, Fantasy', 'Comedy, Drama', 'Drama, Fantasy',\n",
              "       'Drama, Horror, Suspense', 'Drama, Horror, Fantasy',\n",
              "       'Drama, Suspense, Action', 'Drama, Suspense, Adventure',\n",
              "       'Drama, Documentary', 'Drama, Horror', 'Drama, Sci-fi', 'Fantasy',\n",
              "       'Drama, Action, Sci-fi', 'Action', 'Drama, Action, Adventure',\n",
              "       'Drama, Romance', 'Drama, Comedy, Action',\n",
              "       'Drama, Sci-fi, Suspense, Action',\n",
              "       'Drama, LGBTQ, Arts, Entertainment, Culture', 'Horror',\n",
              "       'Drama, Comedy, LGBTQ', 'Drama, Comeddy', 'Drama, Sports',\n",
              "       'Sci-fi, Action, Suspense ', 'Kids', 'Adventure',\n",
              "       'Kids, Animation', 'Animation', 'Sports', nan], dtype=object)"
            ]
          },
          "metadata": {
            "tags": []
          },
          "execution_count": 23
        }
      ]
    },
    {
      "cell_type": "code",
      "metadata": {
        "id": "YPiXsAvdFIkX"
      },
      "source": [
        "df['Genre'].fillna(df['Genre'].value_counts().index[0],inplace=True)"
      ],
      "execution_count": 24,
      "outputs": []
    },
    {
      "cell_type": "code",
      "metadata": {
        "colab": {
          "base_uri": "https://localhost:8080/"
        },
        "id": "zMVWlNgjFTtT",
        "outputId": "543c83ea-d1d9-4886-89f4-e312bcb65570"
      },
      "source": [
        "df.isnull().sum()"
      ],
      "execution_count": 25,
      "outputs": [
        {
          "output_type": "execute_result",
          "data": {
            "text/plain": [
              "S.no.                        0\n",
              "Name of the show             0\n",
              "Year of release              0\n",
              "No of seasons available      0\n",
              "Language                     0\n",
              "Genre                        0\n",
              "IMDb rating                222\n",
              "Age of viewers              11\n",
              "dtype: int64"
            ]
          },
          "metadata": {
            "tags": []
          },
          "execution_count": 25
        }
      ]
    },
    {
      "cell_type": "code",
      "metadata": {
        "colab": {
          "base_uri": "https://localhost:8080/"
        },
        "id": "k9JTIpDdFWRg",
        "outputId": "1c8d7458-c82d-4c03-8e5c-479a0f8a2ca3"
      },
      "source": [
        "df['Age of viewers'].unique()"
      ],
      "execution_count": 26,
      "outputs": [
        {
          "output_type": "execute_result",
          "data": {
            "text/plain": [
              "array(['18+', '16+', 'All', '13+', '7+', nan], dtype=object)"
            ]
          },
          "metadata": {
            "tags": []
          },
          "execution_count": 26
        }
      ]
    },
    {
      "cell_type": "code",
      "metadata": {
        "id": "gFZR3ACoFcA2"
      },
      "source": [
        "df['Age of viewers'].fillna(df['Age of viewers'].value_counts().index[0],inplace=True)"
      ],
      "execution_count": 27,
      "outputs": []
    },
    {
      "cell_type": "code",
      "metadata": {
        "colab": {
          "base_uri": "https://localhost:8080/"
        },
        "id": "dZ66RxitFmWB",
        "outputId": "d55bef08-6f73-4409-bbff-bb73f6988e43"
      },
      "source": [
        "df.isnull().sum()"
      ],
      "execution_count": 28,
      "outputs": [
        {
          "output_type": "execute_result",
          "data": {
            "text/plain": [
              "S.no.                        0\n",
              "Name of the show             0\n",
              "Year of release              0\n",
              "No of seasons available      0\n",
              "Language                     0\n",
              "Genre                        0\n",
              "IMDb rating                222\n",
              "Age of viewers               0\n",
              "dtype: int64"
            ]
          },
          "metadata": {
            "tags": []
          },
          "execution_count": 28
        }
      ]
    },
    {
      "cell_type": "code",
      "metadata": {
        "colab": {
          "base_uri": "https://localhost:8080/"
        },
        "id": "Y1-ZQNBGFrLt",
        "outputId": "9d5a650e-cfe0-4b7a-9ce6-63ce914be13f"
      },
      "source": [
        "df['IMDb rating'].unique()"
      ],
      "execution_count": 29,
      "outputs": [
        {
          "output_type": "execute_result",
          "data": {
            "text/plain": [
              "array([7.5, 8.1, 8.7, 5.3, 8.3, 8.5, 8.6, 8. , nan, 7.2, 8.4, 9. , 6.5,\n",
              "       8.2, 7.8, 7.4, 6.2, 7.6, 7.7, 7.1, 7.9, 7. , 6.9, 7.3, 6.6, 6. ,\n",
              "       6.7, 4. , 5.2, 4.3, 6.8, 6.1, 8.8, 5.8, 6.3, 6.4, 4.7, 5.4, 5.6,\n",
              "       3.7, 4.5])"
            ]
          },
          "metadata": {
            "tags": []
          },
          "execution_count": 29
        }
      ]
    },
    {
      "cell_type": "code",
      "metadata": {
        "id": "zOcu6TJ4Fw0C"
      },
      "source": [
        "df['IMDb rating'].fillna(df['IMDb rating'].value_counts().index[0],inplace=True)"
      ],
      "execution_count": 30,
      "outputs": []
    },
    {
      "cell_type": "code",
      "metadata": {
        "colab": {
          "base_uri": "https://localhost:8080/"
        },
        "id": "b_eMzQR-F68v",
        "outputId": "5b889a3f-bed4-45f6-aa97-25e3e80e8318"
      },
      "source": [
        "df.isnull().sum()"
      ],
      "execution_count": 31,
      "outputs": [
        {
          "output_type": "execute_result",
          "data": {
            "text/plain": [
              "S.no.                      0\n",
              "Name of the show           0\n",
              "Year of release            0\n",
              "No of seasons available    0\n",
              "Language                   0\n",
              "Genre                      0\n",
              "IMDb rating                0\n",
              "Age of viewers             0\n",
              "dtype: int64"
            ]
          },
          "metadata": {
            "tags": []
          },
          "execution_count": 31
        }
      ]
    },
    {
      "cell_type": "code",
      "metadata": {
        "colab": {
          "base_uri": "https://localhost:8080/",
          "height": 81
        },
        "id": "CRxBf6YDF9wD",
        "outputId": "349bb7d2-03d4-463d-de75-8f6d2113c886"
      },
      "source": [
        "df[df['No of seasons available'] == df['No of seasons available'].max()]"
      ],
      "execution_count": 32,
      "outputs": [
        {
          "output_type": "execute_result",
          "data": {
            "text/html": [
              "<div>\n",
              "<style scoped>\n",
              "    .dataframe tbody tr th:only-of-type {\n",
              "        vertical-align: middle;\n",
              "    }\n",
              "\n",
              "    .dataframe tbody tr th {\n",
              "        vertical-align: top;\n",
              "    }\n",
              "\n",
              "    .dataframe thead th {\n",
              "        text-align: right;\n",
              "    }\n",
              "</style>\n",
              "<table border=\"1\" class=\"dataframe\">\n",
              "  <thead>\n",
              "    <tr style=\"text-align: right;\">\n",
              "      <th></th>\n",
              "      <th>S.no.</th>\n",
              "      <th>Name of the show</th>\n",
              "      <th>Year of release</th>\n",
              "      <th>No of seasons available</th>\n",
              "      <th>Language</th>\n",
              "      <th>Genre</th>\n",
              "      <th>IMDb rating</th>\n",
              "      <th>Age of viewers</th>\n",
              "    </tr>\n",
              "  </thead>\n",
              "  <tbody>\n",
              "    <tr>\n",
              "      <th>229</th>\n",
              "      <td>230</td>\n",
              "      <td>Forensic Files</td>\n",
              "      <td>1998.0</td>\n",
              "      <td>20.0</td>\n",
              "      <td>English</td>\n",
              "      <td>Documentary</td>\n",
              "      <td>7.2</td>\n",
              "      <td>13+</td>\n",
              "    </tr>\n",
              "  </tbody>\n",
              "</table>\n",
              "</div>"
            ],
            "text/plain": [
              "     S.no. Name of the show  ...  IMDb rating  Age of viewers\n",
              "229    230   Forensic Files  ...          7.2             13+\n",
              "\n",
              "[1 rows x 8 columns]"
            ]
          },
          "metadata": {
            "tags": []
          },
          "execution_count": 32
        }
      ]
    },
    {
      "cell_type": "code",
      "metadata": {
        "colab": {
          "base_uri": "https://localhost:8080/",
          "height": 81
        },
        "id": "OFlqLoSCG9FC",
        "outputId": "452ed472-92ba-4b36-8c66-b284d05a6630"
      },
      "source": [
        "df[df['Year of release'] ==df['Year of release'].min()]"
      ],
      "execution_count": 33,
      "outputs": [
        {
          "output_type": "execute_result",
          "data": {
            "text/html": [
              "<div>\n",
              "<style scoped>\n",
              "    .dataframe tbody tr th:only-of-type {\n",
              "        vertical-align: middle;\n",
              "    }\n",
              "\n",
              "    .dataframe tbody tr th {\n",
              "        vertical-align: top;\n",
              "    }\n",
              "\n",
              "    .dataframe thead th {\n",
              "        text-align: right;\n",
              "    }\n",
              "</style>\n",
              "<table border=\"1\" class=\"dataframe\">\n",
              "  <thead>\n",
              "    <tr style=\"text-align: right;\">\n",
              "      <th></th>\n",
              "      <th>S.no.</th>\n",
              "      <th>Name of the show</th>\n",
              "      <th>Year of release</th>\n",
              "      <th>No of seasons available</th>\n",
              "      <th>Language</th>\n",
              "      <th>Genre</th>\n",
              "      <th>IMDb rating</th>\n",
              "      <th>Age of viewers</th>\n",
              "    </tr>\n",
              "  </thead>\n",
              "  <tbody>\n",
              "    <tr>\n",
              "      <th>201</th>\n",
              "      <td>202</td>\n",
              "      <td>The Cecil B. DeMille Classics Collection</td>\n",
              "      <td>1926.0</td>\n",
              "      <td>1.0</td>\n",
              "      <td>English</td>\n",
              "      <td>Drama</td>\n",
              "      <td>7.2</td>\n",
              "      <td>13+</td>\n",
              "    </tr>\n",
              "  </tbody>\n",
              "</table>\n",
              "</div>"
            ],
            "text/plain": [
              "     S.no.  ... Age of viewers\n",
              "201    202  ...            13+\n",
              "\n",
              "[1 rows x 8 columns]"
            ]
          },
          "metadata": {
            "tags": []
          },
          "execution_count": 33
        }
      ]
    },
    {
      "cell_type": "markdown",
      "metadata": {
        "id": "mHQQB0X1nZAf"
      },
      "source": [
        "#Data Visualization"
      ]
    },
    {
      "cell_type": "code",
      "metadata": {
        "colab": {
          "base_uri": "https://localhost:8080/",
          "height": 503
        },
        "id": "h5aM0tkIHEwP",
        "outputId": "d6a2d309-f1f7-4611-ac5c-8d85845a7016"
      },
      "source": [
        "corr_matrix=df.corr().round(1)\n",
        "plt.figure(figsize=(10,6))\n",
        "sns.heatmap(data=corr_matrix, annot=True, linewidths=0.2, square=True)\n"
      ],
      "execution_count": 34,
      "outputs": [
        {
          "output_type": "execute_result",
          "data": {
            "text/plain": [
              "<matplotlib.axes._subplots.AxesSubplot at 0x7f353fe46b10>"
            ]
          },
          "metadata": {
            "tags": []
          },
          "execution_count": 34
        },
        {
          "output_type": "display_data",
          "data": {
            "image/png": "[encoded data removed]",
            "text/plain": [
              "<Figure size 720x432 with 2 Axes>"
            ]
          },
          "metadata": {
            "tags": [],
            "needs_background": "light"
          }
        }
      ]
    },
    {
      "cell_type": "code",
      "metadata": {
        "colab": {
          "base_uri": "https://localhost:8080/",
          "height": 297
        },
        "id": "HY8Q_rSVHJQ9",
        "outputId": "78cc736e-ea9c-43e4-8bd2-731140f5af5c"
      },
      "source": [
        "sns.countplot(x = \"Age of viewers\", data =df)"
      ],
      "execution_count": 35,
      "outputs": [
        {
          "output_type": "execute_result",
          "data": {
            "text/plain": [
              "<matplotlib.axes._subplots.AxesSubplot at 0x7f3536a61c50>"
            ]
          },
          "metadata": {
            "tags": []
          },
          "execution_count": 35
        },
        {
          "output_type": "display_data",
          "data": {
            "image/png": "[encoded data removed]",
            "text/plain": [
              "<Figure size 432x288 with 1 Axes>"
            ]
          },
          "metadata": {
            "tags": [],
            "needs_background": "light"
          }
        }
      ]
    },
    {
      "cell_type": "code",
      "metadata": {
        "colab": {
          "base_uri": "https://localhost:8080/",
          "height": 351
        },
        "id": "q1RyKm7GHWX4",
        "outputId": "63e32570-6b70-438b-c668-be91239bbd16"
      },
      "source": [
        "plt.figure(figsize = (10,5))\n",
        "sns.countplot(y = \"Language\", data =df)"
      ],
      "execution_count": 49,
      "outputs": [
        {
          "output_type": "execute_result",
          "data": {
            "text/plain": [
              "<matplotlib.axes._subplots.AxesSubplot at 0x7f353409d190>"
            ]
          },
          "metadata": {
            "tags": []
          },
          "execution_count": 49
        },
        {
          "output_type": "display_data",
          "data": {
            "image/png": "[encoded data removed]",
            "text/plain": [
              "<Figure size 720x360 with 1 Axes>"
            ]
          },
          "metadata": {
            "tags": [],
            "needs_background": "light"
          }
        }
      ]
    },
    {
      "cell_type": "code",
      "metadata": {
        "colab": {
          "base_uri": "https://localhost:8080/",
          "height": 677
        },
        "id": "MLydi3dYHi_O",
        "outputId": "f4b71fd3-6dbd-45d2-cf2e-9d2ff0c07035"
      },
      "source": [
        "plt.figure(figsize = (10,11))\n",
        "sns.countplot(y = 'Genre', data = df)"
      ],
      "execution_count": 37,
      "outputs": [
        {
          "output_type": "execute_result",
          "data": {
            "text/plain": [
              "<matplotlib.axes._subplots.AxesSubplot at 0x7f35365b3b10>"
            ]
          },
          "metadata": {
            "tags": []
          },
          "execution_count": 37
        },
        {
          "output_type": "display_data",
          "data": {
            "image/png": "[encoded data removed]",
            "text/plain": [
              "<Figure size 720x792 with 1 Axes>"
            ]
          },
          "metadata": {
            "tags": [],
            "needs_background": "light"
          }
        }
      ]
    },
    {
      "cell_type": "code",
      "metadata": {
        "colab": {
          "base_uri": "https://localhost:8080/",
          "height": 175
        },
        "id": "2J1wWPhSHtJ1",
        "outputId": "417fb55b-768d-4343-bcad-02311ef6f145"
      },
      "source": [
        "df[df['Language'] == 'Hindi'].sort_values(by = 'IMDb rating', ascending = False).head(4)"
      ],
      "execution_count": 38,
      "outputs": [
        {
          "output_type": "execute_result",
          "data": {
            "text/html": [
              "<div>\n",
              "<style scoped>\n",
              "    .dataframe tbody tr th:only-of-type {\n",
              "        vertical-align: middle;\n",
              "    }\n",
              "\n",
              "    .dataframe tbody tr th {\n",
              "        vertical-align: top;\n",
              "    }\n",
              "\n",
              "    .dataframe thead th {\n",
              "        text-align: right;\n",
              "    }\n",
              "</style>\n",
              "<table border=\"1\" class=\"dataframe\">\n",
              "  <thead>\n",
              "    <tr style=\"text-align: right;\">\n",
              "      <th></th>\n",
              "      <th>S.no.</th>\n",
              "      <th>Name of the show</th>\n",
              "      <th>Year of release</th>\n",
              "      <th>No of seasons available</th>\n",
              "      <th>Language</th>\n",
              "      <th>Genre</th>\n",
              "      <th>IMDb rating</th>\n",
              "      <th>Age of viewers</th>\n",
              "    </tr>\n",
              "  </thead>\n",
              "  <tbody>\n",
              "    <tr>\n",
              "      <th>37</th>\n",
              "      <td>38</td>\n",
              "      <td>Hostel Daze</td>\n",
              "      <td>2019.0</td>\n",
              "      <td>1.0</td>\n",
              "      <td>Hindi</td>\n",
              "      <td>Drama, Comedy</td>\n",
              "      <td>8.7</td>\n",
              "      <td>16+</td>\n",
              "    </tr>\n",
              "    <tr>\n",
              "      <th>8</th>\n",
              "      <td>9</td>\n",
              "      <td>The Family Man</td>\n",
              "      <td>2019.0</td>\n",
              "      <td>1.0</td>\n",
              "      <td>Hindi</td>\n",
              "      <td>Drama, Action</td>\n",
              "      <td>8.6</td>\n",
              "      <td>18+</td>\n",
              "    </tr>\n",
              "    <tr>\n",
              "      <th>7</th>\n",
              "      <td>8</td>\n",
              "      <td>Mirzapur</td>\n",
              "      <td>2018.0</td>\n",
              "      <td>1.0</td>\n",
              "      <td>Hindi</td>\n",
              "      <td>Drama</td>\n",
              "      <td>8.5</td>\n",
              "      <td>18+</td>\n",
              "    </tr>\n",
              "    <tr>\n",
              "      <th>16</th>\n",
              "      <td>17</td>\n",
              "      <td>Breathe</td>\n",
              "      <td>2018.0</td>\n",
              "      <td>1.0</td>\n",
              "      <td>Hindi</td>\n",
              "      <td>Drama, Suspense</td>\n",
              "      <td>8.4</td>\n",
              "      <td>16+</td>\n",
              "    </tr>\n",
              "  </tbody>\n",
              "</table>\n",
              "</div>"
            ],
            "text/plain": [
              "    S.no. Name of the show  ...  IMDb rating  Age of viewers\n",
              "37     38      Hostel Daze  ...          8.7             16+\n",
              "8       9   The Family Man  ...          8.6             18+\n",
              "7       8         Mirzapur  ...          8.5             18+\n",
              "16     17          Breathe  ...          8.4             16+\n",
              "\n",
              "[4 rows x 8 columns]"
            ]
          },
          "metadata": {
            "tags": []
          },
          "execution_count": 38
        }
      ]
    },
    {
      "cell_type": "code",
      "metadata": {
        "colab": {
          "base_uri": "https://localhost:8080/",
          "height": 237
        },
        "id": "rveKqbfzIFZc",
        "outputId": "72fb0e59-1bd1-4214-eb0c-8eb6762abff4"
      },
      "source": [
        "df[df['Language'] == 'English'].sort_values(by = 'IMDb rating', ascending = False).head(6)"
      ],
      "execution_count": 39,
      "outputs": [
        {
          "output_type": "execute_result",
          "data": {
            "text/html": [
              "<div>\n",
              "<style scoped>\n",
              "    .dataframe tbody tr th:only-of-type {\n",
              "        vertical-align: middle;\n",
              "    }\n",
              "\n",
              "    .dataframe tbody tr th {\n",
              "        vertical-align: top;\n",
              "    }\n",
              "\n",
              "    .dataframe thead th {\n",
              "        text-align: right;\n",
              "    }\n",
              "</style>\n",
              "<table border=\"1\" class=\"dataframe\">\n",
              "  <thead>\n",
              "    <tr style=\"text-align: right;\">\n",
              "      <th></th>\n",
              "      <th>S.no.</th>\n",
              "      <th>Name of the show</th>\n",
              "      <th>Year of release</th>\n",
              "      <th>No of seasons available</th>\n",
              "      <th>Language</th>\n",
              "      <th>Genre</th>\n",
              "      <th>IMDb rating</th>\n",
              "      <th>Age of viewers</th>\n",
              "    </tr>\n",
              "  </thead>\n",
              "  <tbody>\n",
              "    <tr>\n",
              "      <th>20</th>\n",
              "      <td>21</td>\n",
              "      <td>The Test: A New Era for Australia's Team</td>\n",
              "      <td>2020.0</td>\n",
              "      <td>1.0</td>\n",
              "      <td>English</td>\n",
              "      <td>Documentary</td>\n",
              "      <td>9.0</td>\n",
              "      <td>16+</td>\n",
              "    </tr>\n",
              "    <tr>\n",
              "      <th>281</th>\n",
              "      <td>282</td>\n",
              "      <td>Seinfeld</td>\n",
              "      <td>1990.0</td>\n",
              "      <td>9.0</td>\n",
              "      <td>English</td>\n",
              "      <td>Comedy</td>\n",
              "      <td>8.8</td>\n",
              "      <td>13+</td>\n",
              "    </tr>\n",
              "    <tr>\n",
              "      <th>4</th>\n",
              "      <td>5</td>\n",
              "      <td>Fleabag</td>\n",
              "      <td>2016.0</td>\n",
              "      <td>2.0</td>\n",
              "      <td>English</td>\n",
              "      <td>Comedy</td>\n",
              "      <td>8.7</td>\n",
              "      <td>18+</td>\n",
              "    </tr>\n",
              "    <tr>\n",
              "      <th>12</th>\n",
              "      <td>13</td>\n",
              "      <td>The Boys</td>\n",
              "      <td>2019.0</td>\n",
              "      <td>2.0</td>\n",
              "      <td>English</td>\n",
              "      <td>Action, Comedy</td>\n",
              "      <td>8.7</td>\n",
              "      <td>18+</td>\n",
              "    </tr>\n",
              "    <tr>\n",
              "      <th>49</th>\n",
              "      <td>50</td>\n",
              "      <td>Downtown Abbey</td>\n",
              "      <td>2010.0</td>\n",
              "      <td>6.0</td>\n",
              "      <td>English</td>\n",
              "      <td>Drama</td>\n",
              "      <td>8.7</td>\n",
              "      <td>7+</td>\n",
              "    </tr>\n",
              "    <tr>\n",
              "      <th>2</th>\n",
              "      <td>3</td>\n",
              "      <td>The Marvelous Mrs. Maisel</td>\n",
              "      <td>2017.0</td>\n",
              "      <td>3.0</td>\n",
              "      <td>English</td>\n",
              "      <td>Drama, Comedy</td>\n",
              "      <td>8.7</td>\n",
              "      <td>16+</td>\n",
              "    </tr>\n",
              "  </tbody>\n",
              "</table>\n",
              "</div>"
            ],
            "text/plain": [
              "     S.no.  ... Age of viewers\n",
              "20      21  ...            16+\n",
              "281    282  ...            13+\n",
              "4        5  ...            18+\n",
              "12      13  ...            18+\n",
              "49      50  ...             7+\n",
              "2        3  ...            16+\n",
              "\n",
              "[6 rows x 8 columns]"
            ]
          },
          "metadata": {
            "tags": []
          },
          "execution_count": 39
        }
      ]
    },
    {
      "cell_type": "code",
      "metadata": {
        "colab": {
          "base_uri": "https://localhost:8080/",
          "height": 404
        },
        "id": "izLjmVldISxv",
        "outputId": "548b941e-c576-42b1-b067-32c15329c545"
      },
      "source": [
        "temp = pd.crosstab(df['IMDb rating'],df['Language'])\n",
        "Hindi_data = temp.Hindi\n",
        "English_data = temp['English']\n",
        "top_five_Hindi = Hindi_data.sort_values(ascending=False).head(6)\n",
        "top_five_English = English_data.sort_values(ascending=False).head()\n",
        "\n",
        "plt.figure(figsize=(6,6))\n",
        "plot = sns.barplot(x=top_five_Hindi.keys(), y=top_five_Hindi)\n",
        "plot.set(title='Top 5 Hindi Movies')\n",
        "plt.show()"
      ],
      "execution_count": 52,
      "outputs": [
        {
          "output_type": "display_data",
          "data": {
            "image/png": "[encoded data removed]",
            "text/plain": [
              "<Figure size 432x432 with 1 Axes>"
            ]
          },
          "metadata": {
            "tags": [],
            "needs_background": "light"
          }
        }
      ]
    },
    {
      "cell_type": "code",
      "metadata": {
        "colab": {
          "base_uri": "https://localhost:8080/",
          "height": 513
        },
        "id": "-t6jArknIZCh",
        "outputId": "b759640e-9572-4b63-e0be-28334d5b6c0c"
      },
      "source": [
        "\n",
        "plt.figure(figsize=(8,8))\n",
        "plot = sns.barplot(x=top_five_English.keys(), y=top_five_English)\n",
        "plot.set(title='Top 5 English Movies')\n",
        "plt.show()"
      ],
      "execution_count": 41,
      "outputs": [
        {
          "output_type": "display_data",
          "data": {
            "image/png": "[encoded data removed]",
            "text/plain": [
              "<Figure size 576x576 with 1 Axes>"
            ]
          },
          "metadata": {
            "tags": [],
            "needs_background": "light"
          }
        }
      ]
    },
    {
      "cell_type": "code",
      "metadata": {
        "colab": {
          "base_uri": "https://localhost:8080/",
          "height": 745
        },
        "id": "RCGShVvyIr0l",
        "outputId": "45006f6c-ae58-4492-b116-59cfaafc1c80"
      },
      "source": [
        " sns.pairplot(df)"
      ],
      "execution_count": 42,
      "outputs": [
        {
          "output_type": "execute_result",
          "data": {
            "text/plain": [
              "<seaborn.axisgrid.PairGrid at 0x7f3536371650>"
            ]
          },
          "metadata": {
            "tags": []
          },
          "execution_count": 42
        },
        {
          "output_type": "display_data",
          "data": {
            "image/png": "[encoded data removed]",
            "text/plain": [
              "<Figure size 720x720 with 20 Axes>"
            ]
          },
          "metadata": {
            "tags": [],
            "needs_background": "light"
          }
        }
      ]
    },
    {
      "cell_type": "code",
      "metadata": {
        "colab": {
          "base_uri": "https://localhost:8080/",
          "height": 353
        },
        "id": "3EPbw-6xIvS-",
        "outputId": "69e26451-01fd-4dee-b382-8d321ea1bfa3"
      },
      "source": [
        "plt.figure(figsize=(10,5))\n",
        "plt.bar(df.groupby('Year of release')['Year of release'].count().index,df.groupby('Year of release')['IMDb rating'].mean(),alpha=0.50)\n",
        "plt.xlabel(\"Year of release\",fontsize=12)\n",
        "plt.ylabel(\"Avg IMDb rating\",fontsize=12)\n",
        "plt.title(\"IMDb rating w.r.t Year of release\")\n",
        "plt.show()"
      ],
      "execution_count": 43,
      "outputs": [
        {
          "output_type": "display_data",
          "data": {
            "image/png": "[encoded data removed]",
            "text/plain": [
              "<Figure size 720x360 with 1 Axes>"
            ]
          },
          "metadata": {
            "tags": [],
            "needs_background": "light"
          }
        }
      ]
    },
    {
      "cell_type": "code",
      "metadata": {
        "colab": {
          "base_uri": "https://localhost:8080/",
          "height": 295
        },
        "id": "CkW3mRBBI6EV",
        "outputId": "def2711d-398b-4b0a-a32a-731343dfbacc"
      },
      "source": [
        "plt.figure(figsize=(10,4))\n",
        "plt.bar(df.groupby('Year of release')['Year of release'].count().index,df.groupby('Year of release')['No of seasons available'].mean(),alpha=0.65)\n",
        "plt.xlabel(\"Year of release\",fontsize=10)\n",
        "plt.ylabel(\"Avg No of seasons available\",fontsize=12)\n",
        "plt.title(\"No of seasons available w.r.t Year of release\")\n",
        "plt.show()\n"
      ],
      "execution_count": 44,
      "outputs": [
        {
          "output_type": "display_data",
          "data": {
            "image/png": "[encoded data removed]",
            "text/plain": [
              "<Figure size 720x288 with 1 Axes>"
            ]
          },
          "metadata": {
            "tags": [],
            "needs_background": "light"
          }
        }
      ]
    },
    {
      "cell_type": "code",
      "metadata": {
        "colab": {
          "base_uri": "https://localhost:8080/",
          "height": 299
        },
        "id": "J4F9ddLbJad2",
        "outputId": "b7375585-7900-4876-fe6b-4d8e1dac8301"
      },
      "source": [
        "plt.subplot(1,3,1)\n",
        "plt.scatter(df[\"IMDb rating\"], df[\"Year of release\"])\n",
        "plt.title(\"IMDb rating vs Year of release\")"
      ],
      "execution_count": 46,
      "outputs": [
        {
          "output_type": "execute_result",
          "data": {
            "text/plain": [
              "Text(0.5, 1.0, 'IMDb rating vs Year of release')"
            ]
          },
          "metadata": {
            "tags": []
          },
          "execution_count": 46
        },
        {
          "output_type": "display_data",
          "data": {
            "image/png": "[encoded data removed]",
            "text/plain": [
              "<Figure size 432x288 with 1 Axes>"
            ]
          },
          "metadata": {
            "tags": [],
            "needs_background": "light"
          }
        }
      ]
    },
    {
      "cell_type": "code",
      "metadata": {
        "colab": {
          "base_uri": "https://localhost:8080/",
          "height": 299
        },
        "id": "9lGbgYvaJyVc",
        "outputId": "26dc908a-a3e2-46cb-bda1-02899b54e711"
      },
      "source": [
        "plt.subplot(1,3,1)\n",
        "plt.scatter(df[\"No of seasons available\"], df[\"Year of release\"])\n",
        "plt.title(\"No of seasons available vs Year of release\")"
      ],
      "execution_count": 47,
      "outputs": [
        {
          "output_type": "execute_result",
          "data": {
            "text/plain": [
              "Text(0.5, 1.0, 'No of seasons available vs Year of release')"
            ]
          },
          "metadata": {
            "tags": []
          },
          "execution_count": 47
        },
        {
          "output_type": "display_data",
          "data": {
            "image/png": "[encoded data removed]",
            "text/plain": [
              "<Figure size 432x288 with 1 Axes>"
            ]
          },
          "metadata": {
            "tags": [],
            "needs_background": "light"
          }
        }
      ]
    },
    {
      "cell_type": "code",
      "metadata": {
        "id": "ghNDgCHYoyQN"
      },
      "source": [
        ""
      ],
      "execution_count": 47,
      "outputs": []
    }
  ]
}